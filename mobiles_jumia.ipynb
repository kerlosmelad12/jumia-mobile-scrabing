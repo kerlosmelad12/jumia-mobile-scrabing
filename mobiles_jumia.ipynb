{
 "cells": [
  {
   "cell_type": "code",
   "execution_count": 1,
   "metadata": {},
   "outputs": [],
   "source": [
    "from selenium import webdriver\n",
    "from selenium import webdriver\n",
    "from selenium.webdriver.chrome.options import Options\n",
    "from selenium import webdriver\n",
    "from selenium import webdriver\n",
    "from selenium.webdriver.common.keys import Keys\n",
    "from selenium.webdriver.common.by import By\n",
    "from selenium.webdriver.support.ui import WebDriverWait\n",
    "from selenium.webdriver.support import expected_conditions as EC\n",
    "from selenium.webdriver.common.action_chains import ActionChains\n",
    "from selenium.webdriver.support.ui import Select\n",
    "import time as T\n",
    "import requests\n",
    "from bs4 import BeautifulSoup\n",
    "import json\n",
    "import warnings\n",
    "import re\n",
    "from selenium.webdriver.common.desired_capabilities import DesiredCapabilities\n",
    "import urllib.request\n",
    "warnings.filterwarnings('ignore')\n",
    "import pandas as pd \n",
    "import numpy as np\n",
    "import os \n",
    "from selenium.webdriver.chrome.service import Service\n",
    "\n",
    "def sleep(time):\n",
    "    return T.sleep(time)\n",
    "def cliking_onelement(driver,x_path):\n",
    "    dropdown_option = WebDriverWait(driver, 15).until(EC.presence_of_element_located((By.XPATH,x_path)))\n",
    "    return dropdown_option.click()\n",
    "def geting_url(driver,url):\n",
    "    return driver.get('url')\n",
    "\n",
    "opentions=webdriver.ChromeOptions()\n",
    "driver='geckodriver.exe'\n",
    "service=Service(executable_path=driver)\n",
    "options = webdriver.ChromeOptions()\n",
    "driver = webdriver.Firefox(service=service)\n",
    "driver.get('https://www.jumia.com.eg/a06-6.7-inch-64gb4gb-dual-sim-4g-mobile-phone-black-samsung-mpg3818088.html')\n",
    "driver.find_element(By.XPATH,'/html/body/div[1]/div[3]/div/section/button').click()\n",
    "T.sleep(2)\n",
    "driver.find_element(By.XPATH,'/html/body/div[1]/article/button').click()\n"
   ]
  },
  {
   "cell_type": "code",
   "execution_count": 2,
   "metadata": {},
   "outputs": [],
   "source": [
    "from bs4 import BeautifulSoup\n",
    "import requests as res\n",
    "url='https://www.jumia.com.eg/catalog/?q=mobile&page=0'\n",
    "res.get(url)\n",
    "soup=BeautifulSoup(res.get(url).text)\n"
   ]
  },
  {
   "cell_type": "code",
   "execution_count": 3,
   "metadata": {},
   "outputs": [],
   "source": [
    "def get_pdgeslinks():\n",
    "    url='https://www.jumia.com.eg/catalog/?q=mobile&page='\n",
    "    pdges_links=[]\n",
    "    for i in range(1,10):\n",
    "        pdges_links.append(url+str(i))\n",
    "    return pdges_links"
   ]
  },
  {
   "cell_type": "code",
   "execution_count": 4,
   "metadata": {},
   "outputs": [
    {
     "data": {
      "text/plain": [
       "['https://www.jumia.com.eg/catalog/?q=mobile&page=1',\n",
       " 'https://www.jumia.com.eg/catalog/?q=mobile&page=2',\n",
       " 'https://www.jumia.com.eg/catalog/?q=mobile&page=3',\n",
       " 'https://www.jumia.com.eg/catalog/?q=mobile&page=4',\n",
       " 'https://www.jumia.com.eg/catalog/?q=mobile&page=5',\n",
       " 'https://www.jumia.com.eg/catalog/?q=mobile&page=6',\n",
       " 'https://www.jumia.com.eg/catalog/?q=mobile&page=7',\n",
       " 'https://www.jumia.com.eg/catalog/?q=mobile&page=8',\n",
       " 'https://www.jumia.com.eg/catalog/?q=mobile&page=9']"
      ]
     },
     "execution_count": 4,
     "metadata": {},
     "output_type": "execute_result"
    }
   ],
   "source": [
    "get_pdgeslinks()"
   ]
  },
  {
   "cell_type": "code",
   "execution_count": 5,
   "metadata": {},
   "outputs": [],
   "source": [
    "import requests\n",
    "from bs4 import BeautifulSoup\n",
    "\n",
    "url = \"https://www.jumia.com.eg/catalog/?q=mobile&page=0\"\n",
    "\n",
    "response = requests.get(url)\n",
    "\n",
    "if response.status_code == 200:\n",
    "    soup = BeautifulSoup(response.content, 'html.parser')\n",
    "    \n",
    "    product_links = soup.find_all('a', class_='core', href=True) # to screach for all products\n",
    "    \n",
    "    mobile_links = []\n",
    "    for link in product_links:\n",
    "        if 'mobile-phones' in link['href']:\n",
    "            mobile_links.append(link['href'])\n",
    "    \n",
    "    # طباعة الروابط\n",
    "    for link in mobile_links:\n",
    "        print(link)\n",
    "else:\n",
    "    print(\"فشل في جلب الصفحة. الرجاء التحقق من الاتصال بالإنترنت أو الرابط.\")"
   ]
  },
  {
   "cell_type": "code",
   "execution_count": 6,
   "metadata": {},
   "outputs": [
    {
     "name": "stdout",
     "output_type": "stream",
     "text": [
      "https://www.jumia.com.eg/a06-6.7-inch-64gb4gb-dual-sim-4g-mobile-phone-black-samsung-mpg3818088.html\n",
      "https://www.jumia.com.eg/samsung-galaxy-a15-6.5-inch-128gb6gb-ram-4g-dual-sim-mobile-phone-light-blue-106664368.html\n",
      "https://www.jumia.com.eg/reno-12f-6.6-256gb8gb-dual-sim-4g-mobile-phone-olive-green-oppo-mpg3818028.html\n",
      "https://www.jumia.com.eg/smart-8-mobile-phone-6.6-inches-dual-sim-4g-64gb4gb-timber-black-infinix-mpg3818266.html\n",
      "https://www.jumia.com.eg/samsung-galaxy-a16-6.7-256gb8gb-dual-sim-4g-mobile-phone-black-free-25w-adapter-usb-c-super-fast-charging-black-124897863.html\n",
      "https://www.jumia.com.eg/galaxy-a16-6.7-128gb6gb-dual-sim-4g-mobile-phone-grey-with-free-25w-samsung-super-fast-charger-samsung-mpg3818563.html\n",
      "https://www.jumia.com.eg/redmi-note-13-6.6inch-128gb6gb-dual-sim-4g-mobile-phone-midnight-black-xiaomi-mpg3818713.html\n",
      "https://www.jumia.com.eg/reno-12f-6.6-256gb12gb-dual-sim-5g-phone-mobile-olive-green-oppo-mpg3818026.html\n",
      "https://www.jumia.com.eg/a06-6.7-inch-128gb6gb-dual-sim-4g-mobile-phone-light-blue-samsung-mpg3818093.html\n",
      "https://www.jumia.com.eg/galaxy-a16-6.7-256gb8gb-dual-sim-4g-mobile-phone-grey-free-25w-adapter-usb-c-super-fast-charging-black-samsung-mpg3818564.html\n",
      "https://www.jumia.com.eg/xiaomi-redmi-a3-6.71-inch-4gb128gb-dual-sim-4g-mobile-phone-midnight-black-111623987.html\n",
      "https://www.jumia.com.eg/xiaomi-redmi-a3-6.71-inch-3gb64gb-dual-sim-4g-mobile-phone-midnight-black-111623913.html\n",
      "https://www.jumia.com.eg/poco-c75-6.8-256gb8gb-dual-sim-4g-mobile-phone-gold-xiaomi-mpg3818375.html\n",
      "https://www.jumia.com.eg/xiaomi-redmi-a3-6.7-64gb3gb-dual-sim-4g-mobile-phone-star-blue-105944421.html\n",
      "https://www.jumia.com.eg/a06-6.7-inch-128gb6gb-dual-sim-4g-mobile-phone-black-samsung-mpg3818092.html\n",
      "https://www.jumia.com.eg/reno-12f-6.6-256gb8gb-dual-sim-4g-mobile-phone-matte-gray-oppo-mpg3818030.html\n",
      "https://www.jumia.com.eg/smart-8-6.6-inch-64gb4gb-ram-4g-dual-sim-smart-phone-galaxy-white-infinix-mpg3818270.html\n",
      "https://www.jumia.com.eg/reno-12f-6.6-256gb12gb-dual-sim-5g-phone-mobile-amber-orange-oppo-mpg3818027.html\n",
      "https://www.jumia.com.eg/redmi-13c-6.74-inch-8gb256gb-dual-sim-4g-mobile-phone-midnight-black-xiaomi-mpg3818708.html\n",
      "https://www.jumia.com.eg/galaxy-a16-6.7-128gb4gb-dual-sim-4g-mobile-phone-grey-free-25w-adapter-usb-c-super-fast-charging-black-samsung-mpg3818560.html\n",
      "https://www.jumia.com.eg/redmi-14c-6.88-inch-4gb128gb-dual-sim-4g-mobile-phone-midnight-black-xiaomi-mpg3818413.html\n",
      "https://www.jumia.com.eg/xiaomi-redmi-a3-6.71-inch-4gb128gb-dual-sim-4g-mobile-phone-star-blue-111625094.html\n",
      "https://www.jumia.com.eg/samsung-galaxy-a15-6.5-128gb6gb-dual-sim-4g-mobile-phone-light-blue-62297926.html\n",
      "https://www.jumia.com.eg/smart-8-mobile-phone-6.6-inches-dual-sim-4g-128gb4gb-black-infinix-mpg3818262.html\n",
      "https://www.jumia.com.eg/samsung-galaxy-a16-6.7-256gb8gb-dual-sim-4g-mobile-phone-black-with-free-25w-samsung-super-fast-charger-124898695.html\n",
      "https://www.jumia.com.eg/samsung-galaxy-a16-6.7-128gb6gb-dual-sim-4g-mobile-phone-black-free-25w-adapter-usb-c-super-fast-charging-black-124897859.html\n",
      "https://www.jumia.com.eg/iphone-15-mobile-phone-6.1-inches-single-sim-5g-128gb6gb-black-apple-mpg3818724.html\n",
      "https://www.jumia.com.eg/samsung-galaxy-a35-mobile-phone-6.6-inches-dual-sim-5g-256gb8gb-awesome-navy-100138474.html\n",
      "https://www.jumia.com.eg/xiaomi-redmi-a3-6.71-inch-3gb64gb-dual-sim-4g-mobile-phone-star-blue-111625138.html\n",
      "https://www.jumia.com.eg/galaxy-a25-5g-6.5-inch-256gb8gb-dual-sim-mobile-phone-blue-black-samsung-mpg1155026.html\n",
      "https://www.jumia.com.eg/a3-6.6-256gb8gb-dual-sim-4g-mobile-phone-starry-purple-oppo-mpg3818345.html\n",
      "https://www.jumia.com.eg/smart-8-mobile-phone-dual-sim-4g-128gb4gb-shinny-gold-infinix-mpg3818263.html\n",
      "https://www.jumia.com.eg/hope-k19-2.4-inch-4-sim-card-mobile-phone-black-18510524.html\n",
      "https://www.jumia.com.eg/apple-iphone-16-pro-max-6.9-256gb8gb-single-sim-5g-mobile-phone-desert-titanium-116895450.html\n",
      "https://www.jumia.com.eg/redmi-13c-6.74-inch-dual-sim-4g-256gb8gb-mobile-phone-navy-blue-xiaomi-mpg3818710.html\n",
      "https://www.jumia.com.eg/xiaomi-redmi-13c-6.74-inch-8gb256gb-dual-sim-4g-mobile-phone-clover-green-111623854.html\n",
      "https://www.jumia.com.eg/apple-iphone-13-6.1-128gb4gb-single-sim-5g-mobile-phone-starlight-107566257.html\n",
      "https://www.jumia.com.eg/redmi-13c-6.74-inch-4gb128gb-dual-sim-4g-mobile-phone-glacier-white-xiaomi-mpg3818702.html\n"
     ]
    }
   ],
   "source": [
    "import requests\n",
    "from bs4 import BeautifulSoup\n",
    "import re\n",
    "\n",
    "def scrape_jumia_mobiles(url):\n",
    "   \n",
    "    response = requests.get(url)\n",
    "    soup = BeautifulSoup(response.content, 'html.parser')\n",
    "    \n",
    "    \n",
    "    mobile_links = []\n",
    "    \n",
    "    products = soup.find_all('article', class_='prd _fb col c-prd')\n",
    "    \n",
    "    for product in products:\n",
    "       \n",
    "        title = product.find('h3', class_='name').text.strip()\n",
    "        link = product.find('a', class_='core')['href']\n",
    "        full_link = f\"https://www.jumia.com.eg{link}\"\n",
    "        \n",
    "        if re.search(r'\\b(mobile|phone|smartphone)\\b', title, re.IGNORECASE):\n",
    "            mobile_links.append(full_link)\n",
    "    \n",
    "    return mobile_links\n",
    "\n",
    "\n",
    "url = \"https://www.jumia.com.eg/catalog/?q=mobile&page=0\"\n",
    "mobile_links = scrape_jumia_mobiles(url)\n",
    "\n",
    "for link in mobile_links:\n",
    "    print(link)"
   ]
  },
  {
   "cell_type": "code",
   "execution_count": 7,
   "metadata": {},
   "outputs": [],
   "source": [
    "def driver_inirizer():\n",
    "      service = Service('geckodriver.exe')  \n",
    "      driver = webdriver.Firefox(service=service)\n",
    "      return driver"
   ]
  },
  {
   "cell_type": "code",
   "execution_count": 8,
   "metadata": {},
   "outputs": [
    {
     "data": {
      "text/plain": [
       "'Samsung'"
      ]
     },
     "execution_count": 8,
     "metadata": {},
     "output_type": "execute_result"
    }
   ],
   "source": [
    "mobile=driver.find_element(By.XPATH,'/html/body/div[1]/main/div[1]/section/div/div[2]/div[1]').text\n",
    "brand=mobile.split('-')[0].split(' ')[0]\n",
    "mobilename=mobile.split('-')[0].split(' ')[1]\n",
    "brand \n"
   ]
  },
  {
   "cell_type": "code",
   "execution_count": 9,
   "metadata": {},
   "outputs": [
    {
     "data": {
      "text/plain": [
       "'A06'"
      ]
     },
     "execution_count": 9,
     "metadata": {},
     "output_type": "execute_result"
    }
   ],
   "source": [
    "mobilename"
   ]
  },
  {
   "cell_type": "code",
   "execution_count": 10,
   "metadata": {},
   "outputs": [],
   "source": [
    "price=driver.find_element(By.XPATH,'/html/body/div[1]/main/div[1]/section/div/div[2]/div[2]/div[2]').text\n",
    "pattren=re.compile(r'[^0-9,.\\n]')\n",
    "text=pattren.sub(r'',price)\n",
    "old_price=text.split('\\n')[0]\n",
    "price=text.split('\\n')[1]\n",
    "discount=text.split('\\n')[2]"
   ]
  },
  {
   "cell_type": "code",
   "execution_count": 13,
   "metadata": {},
   "outputs": [
    {
     "data": {
      "text/plain": [
       "{'Dimensions': ' 167.3 x 77.3 x 8 mm (6.59 x 3.04 x 0.31 in)',\n",
       " 'Weight': ' 189 g (6.67 oz)',\n",
       " 'Build': ' Glass front, plastic back, plastic frame',\n",
       " 'SIM': ' Nano-SIM',\n",
       " 'Type': ' PLS LCD',\n",
       " 'Size': ' 6.7 inches, 108.4 cm² (~83.8% screen-to-body ratio)',\n",
       " 'Resolution': ' 720 x 1600 pixels, 20:9 ratio (~262 ppi density)',\n",
       " 'Operating System': ' Android 14, with up to 2 major Android upgrades',\n",
       " 'Chipset': ' Mediatek Helio G85 (12 nm)',\n",
       " 'CPU': ' Octa-core (2x2.0 GHz Cortex-A75 & 6x1.8 GHz Cortex-A55)',\n",
       " 'GPU': ' Mali-G52 MC2',\n",
       " 'Internal Storage': ' 64GB 4GB RAM'}"
      ]
     },
     "execution_count": 13,
     "metadata": {},
     "output_type": "execute_result"
    }
   ],
   "source": [
    "key_feauture=driver.find_element(By.XPATH,'/html/body/div[1]/main/div[2]/div[2]/section[2]/div[2]/article[1]/div/div').text.split('\\n')\n",
    "key_feauture\n",
    "datak={}\n",
    "for i in key_feauture:\n",
    "    key,value=i.split(':',1)\n",
    "    datak[key]=value\n",
    "datak"
   ]
  },
  {
   "cell_type": "code",
   "execution_count": 12,
   "metadata": {},
   "outputs": [
    {
     "data": {
      "text/plain": [
       "{'SKU': ' SA024MP1W67URNAFAMZ',\n",
       " 'Model': ' A06',\n",
       " 'Production Country': ' Egypt',\n",
       " 'Size (L x W x H cm)': ' 167.3 x 77.3 x 8 mm',\n",
       " 'Color': ' Black',\n",
       " 'Main Material': ' Glass front, plastic back, plastic frame'}"
      ]
     },
     "execution_count": 12,
     "metadata": {},
     "output_type": "execute_result"
    }
   ],
   "source": [
    "Specifications=driver.find_element(By.XPATH,'/html/body/div[1]/main/div[2]/div[2]/section[2]/div[2]/article[2]/div/ul').text.split('\\n')\n",
    "Specifications\n",
    "datas={}\n",
    "for i in Specifications:\n",
    "    key,value=i.split(':',1)\n",
    "    datas[key]=value\n",
    "datas"
   ]
  },
  {
   "cell_type": "code",
   "execution_count": 14,
   "metadata": {},
   "outputs": [
    {
     "data": {
      "text/plain": [
       "'https://eg.jumia.is/unsafe/fit-in/500x500/filters:fill(white)/product/14/5040031/1.jpg?0781'"
      ]
     },
     "execution_count": 14,
     "metadata": {},
     "output_type": "execute_result"
    }
   ],
   "source": [
    "image_element = driver.find_element(By.XPATH, '/html/body/div[1]/main/div[1]/section/div/div[1]/div/div[1]/a[1]/img')\n",
    "image_url = image_element.get_attribute(\"src\")\n",
    "image_url"
   ]
  },
  {
   "cell_type": "markdown",
   "metadata": {},
   "source": [
    "{'Dimensions':,\n",
    " 'Weight': ,\n",
    " 'Build': ,\n",
    " 'SIM': ,\n",
    " 'Type': ,\n",
    " 'Size': ,\n",
    " 'Resolution': ,\n",
    " 'Operating System':,\n",
    " 'Chipset': ,\n",
    " 'CPU': ,\n",
    " 'GPU': ,\n",
    " 'Internal Storage:'}"
   ]
  },
  {
   "cell_type": "markdown",
   "metadata": {},
   "source": [
    "{'SKU': ,\n",
    " 'Model': ,\n",
    " 'Production Country':,\n",
    " 'Size ,\n",
    " 'Color':,\n",
    " 'Main Material':}"
   ]
  },
  {
   "cell_type": "code",
   "execution_count": 15,
   "metadata": {},
   "outputs": [],
   "source": [
    "\n",
    "# to extract mobile\n",
    "def extract_mobile_data(moblink):\n",
    "    driver_inirizer()  # Ensure the driver is initialized properly\n",
    "    driver.get(moblink)\n",
    "    \n",
    "    data = {\n",
    "        'brand': np.nan,\n",
    "        'model': np.nan,\n",
    "        'old_price': np.nan,\n",
    "        'current_price': np.nan,\n",
    "        'discount': np.nan,\n",
    "        'page_url': np.nan,\n",
    "        'img_url': np.nan,\n",
    "        'Dimensions': np.nan,\n",
    "        'Weight': np.nan,\n",
    "        'Build': np.nan,\n",
    "        'SIM': np.nan,\n",
    "        'Type': np.nan,\n",
    "        'Resolution': np.nan,\n",
    "        'Operating System': np.nan,\n",
    "        'Chipset': np.nan,\n",
    "        'CPU': np.nan,\n",
    "        'GPU': np.nan,\n",
    "        'Internal Storage': np.nan,\n",
    "        'SKU': np.nan,\n",
    "        'Production Country': np.nan,\n",
    "        'Color': np.nan,\n",
    "        'Main Material': np.nan\n",
    "    }\n",
    "\n",
    "    specs_dict = {}\n",
    "    try:\n",
    "        # to wait 20 secound to scrab \n",
    "        text = WebDriverWait(driver, 30).until( EC.presence_of_element_located((By.XPATH, '//*[contains(text(), \"Key Features\")]/ancestor::section')))\n",
    "        specs = text.text.split('\\n')\n",
    "        for item in specs:\n",
    "            if ':' in item:\n",
    "                key, value = item.split(':', 1)\n",
    "                specs_dict[key.strip()] = value.strip()\n",
    "    except Exception as e:\n",
    "        print(f\"Error in extracting specs: {e}\")\n",
    "\n",
    "    for key in ['Dimensions', 'Weight', 'Build', 'SIM', 'Type', 'Resolution', 'Operating System', 'Chipset', 'CPU', 'GPU', 'Internal Storage']:\n",
    "        data[key] = specs_dict.get(key, np.nan)\n",
    "\n",
    "    # Extract features\n",
    "    features_dict = {}\n",
    "    try:\n",
    "        \n",
    "        features_section = WebDriverWait(driver, 30).until(EC.presence_of_element_located((By.XPATH, '//*[contains(text(), \"Features\")]/ancestor::section')))\n",
    "        features = features_section.text.split('\\n')\n",
    "        for item in features:\n",
    "            if ':' in item:\n",
    "                key, value = item.split(':', 1)\n",
    "                features_dict[key.strip()] = value.strip()\n",
    "    except Exception as e:\n",
    "        print(f\"Error in extracting features: {e}\")\n",
    "\n",
    "    \n",
    "    for key in ['SKU', 'Model', 'Production Country', 'Color', 'Main Material']:\n",
    "        data[key] = features_dict.get(key, np.nan)\n",
    "\n",
    "    # Extract price details\n",
    "    try:\n",
    "        price_element = driver.find_element(By.XPATH, '/html/body/div[1]/main/div[1]/section/div/div[2]/div[2]/div[2]').text\n",
    "        prices = re.findall(r'\\d+[\\d,.]*', price_element)\n",
    "        if len(prices) > 0:\n",
    "            data['old_price'] = prices[0]\n",
    "        if len(prices) > 1:\n",
    "            data['current_price'] = prices[1]\n",
    "        if len(prices) > 2:\n",
    "            data['discount'] = prices[2]\n",
    "    except Exception as e:\n",
    "        print(f\"Error in extracting price: {e}\")\n",
    "\n",
    "    # Extract mobile brand and model\n",
    "    try:\n",
    "        mobile_info = driver.find_element(By.XPATH, '/html/body/div[1]/main/div[1]/section/div/div[2]/div[1]').text\n",
    "        parts = mobile_info.split('-')[0].split(' ')\n",
    "        data['brand'] = parts[0].strip()\n",
    "        data['model'] = ' '.join(parts[1:]).strip()\n",
    "    except Exception as e:\n",
    "        print(f\"Error in extracting mobile info: {e}\")\n",
    "\n",
    "    # Extract mobile image URL\n",
    "    try:\n",
    "        image_element = driver.find_element(By.XPATH, '/html/body/div[1]/main/div[1]/section/div/div[1]/div/div[1]/a[1]/img')\n",
    "        data['img_url'] = image_element.get_attribute(\"src\")\n",
    "    except Exception as e:\n",
    "        print(f\"Error in extracting image: {e}\")\n",
    "\n",
    "    try:\n",
    "        data['page_url']=moblink\n",
    "    except Exception as e:\n",
    "       print(f'error to find url {e}')\n",
    "\n",
    "    return data\n",
    "\n"
   ]
  },
  {
   "cell_type": "code",
   "execution_count": 16,
   "metadata": {},
   "outputs": [],
   "source": [
    "mobile_links=['https://www.jumia.com.eg/a06-6.7-inch-64gb4gb-dual-sim-4g-mobile-phone-black-samsung-mpg3818088.html',\n",
    "'https://www.jumia.com.eg/samsung-galaxy-a15-6.5-inch-128gb6gb-ram-4g-dual-sim-mobile-phone-light-blue-106664368.html',\n",
    "'https://www.jumia.com.eg/reno-12f-6.6-256gb8gb-dual-sim-4g-mobile-phone-olive-green-oppo-mpg3818028.html',\n",
    "'https://www.jumia.com.eg/smart-8-mobile-phone-6.6-inches-dual-sim-4g-64gb4gb-timber-black-infinix-mpg3818266.html',\n",
    "'https://www.jumia.com.eg/samsung-galaxy-a16-6.7-256gb8gb-dual-sim-4g-mobile-phone-black-free-25w-adapter-usb-c-super-fast-charging-black-124897863.html',\n",
    "'https://www.jumia.com.eg/galaxy-a16-6.7-128gb6gb-dual-sim-4g-mobile-phone-grey-with-free-25w-samsung-super-fast-charger-samsung-mpg3818563.html',\n",
    "'https://www.jumia.com.eg/redmi-note-13-6.6inch-128gb6gb-dual-sim-4g-mobile-phone-midnight-black-xiaomi-mpg3818713.html',\n",
    "'https://www.jumia.com.eg/reno-12f-6.6-256gb12gb-dual-sim-5g-phone-mobile-olive-green-oppo-mpg3818026.html',\n",
    "'https://www.jumia.com.eg/a06-6.7-inch-128gb6gb-dual-sim-4g-mobile-phone-light-blue-samsung-mpg3818093.html',\n",
    "'https://www.jumia.com.eg/galaxy-a16-6.7-256gb8gb-dual-sim-4g-mobile-phone-grey-free-25w-adapter-usb-c-super-fast-charging-black-samsung-mpg3818564.html']"
   ]
  },
  {
   "cell_type": "code",
   "execution_count": null,
   "metadata": {},
   "outputs": [],
   "source": [
    "all_data = []\n",
    "\n",
    "\n",
    "for link in mobile_links:\n",
    "    data = extract_mobile_data(link)\n",
    "    all_data.append(data)  \n",
    "\n",
    "\n",
    "df = pd.DataFrame(all_data)\n",
    "df.to_excel(\"mobile_data.xlsx\", index=False)"
   ]
  }
 ],
 "metadata": {
  "kernelspec": {
   "display_name": "ml_env",
   "language": "python",
   "name": "python3"
  },
  "language_info": {
   "codemirror_mode": {
    "name": "ipython",
    "version": 3
   },
   "file_extension": ".py",
   "mimetype": "text/x-python",
   "name": "python",
   "nbconvert_exporter": "python",
   "pygments_lexer": "ipython3",
   "version": "3.10.15"
  }
 },
 "nbformat": 4,
 "nbformat_minor": 2
}
